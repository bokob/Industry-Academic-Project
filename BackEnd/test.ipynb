{
 "cells": [
  {
   "cell_type": "code",
   "execution_count": 2,
   "metadata": {},
   "outputs": [],
   "source": [
    "import firebase_admin\n",
    "from firebase_admin import credentials\n",
    "from firebase_admin import db\n",
    "from firebase_admin import storage"
   ]
  },
  {
   "cell_type": "code",
   "execution_count": 3,
   "metadata": {},
   "outputs": [
    {
     "data": {
      "text/plain": [
       "<firebase_admin.App at 0x24e93aeff70>"
      ]
     },
     "execution_count": 3,
     "metadata": {},
     "output_type": "execute_result"
    }
   ],
   "source": [
    "# Firebase database 인증 및 앱 초기화\n",
    "# Fetch the service account key JSON file contents\n",
    "cred = credentials.Certificate('myKey.json')\n",
    "# Initialize the app with a service account, granting admin privileges\n",
    "firebase_admin.initialize_app(cred, {\n",
    "    'databaseURL': 'https://udangtangtang-2a355-default-rtdb.firebaseio.com/',\n",
    "    'storageBucket' : 'udangtangtang-2a355.appspot.com' # 앞에 'gs://' , 뒤에 '/' 붙이면 오류남\n",
    "})"
   ]
  },
  {
   "cell_type": "code",
   "execution_count": 17,
   "metadata": {},
   "outputs": [],
   "source": [
    "import random"
   ]
  },
  {
   "cell_type": "code",
   "execution_count": 4,
   "metadata": {},
   "outputs": [],
   "source": [
    "ref = db.reference() # RealTimeDataBase 위치 지정\n",
    "bucket = storage.bucket() # Storage"
   ]
  },
  {
   "cell_type": "code",
   "execution_count": 5,
   "metadata": {},
   "outputs": [],
   "source": [
    "tmp = ref.get()"
   ]
  },
  {
   "cell_type": "code",
   "execution_count": 6,
   "metadata": {},
   "outputs": [
    {
     "data": {
      "text/plain": [
       "{'quiz': {'갈색날개매미충': [{'답': True,\n",
       "    '문제': '이 동물의 이름은 갈색날개매미충(이)가 맞는가?',\n",
       "    '이미지': '',\n",
       "    '해설': ''}],\n",
       "  '긴다리비틀개미': [{'답': True,\n",
       "    '문제': '이 동물의 이름은 긴다리비틀개미(이)가 맞는가?',\n",
       "    '이미지': '',\n",
       "    '해설': ''}],\n",
       "  '꽃매미': [{'답': True, '문제': '이 동물의 이름은 꽃매미(이)가 맞는가?', '이미지': '', '해설': ''}],\n",
       "  '뉴트리아': [{'답': True, '문제': '이 동물의 이름은 뉴트리아(이)가 맞는가?', '이미지': '', '해설': ''}],\n",
       "  '늑대거북': [{'답': True, '문제': '이 동물의 이름은 늑대거북(이)가 맞는가?', '이미지': '', '해설': ''}],\n",
       "  '등검은말벌': [{'답': True,\n",
       "    '문제': '이 동물의 이름은 등검은말벌(이)가 맞는가?',\n",
       "    '이미지': '',\n",
       "    '해설': ''}],\n",
       "  '리버쿠터': [{'답': True, '문제': '이 동물의 이름은 리버쿠터(이)가 맞는가?', '이미지': '', '해설': ''}],\n",
       "  '미국가재': [{'답': True, '문제': '이 동물의 이름은 미국가재(이)가 맞는가?', '이미지': '', '해설': ''}],\n",
       "  '미국선녀벌레': [{'답': True,\n",
       "    '문제': '이 동물의 이름은 미국선녀벌레(이)가 맞는가?',\n",
       "    '이미지': '',\n",
       "    '해설': ''}],\n",
       "  '배스': [{'답': True, '문제': '이 동물의 이름은 배스(이)가 맞는가?', '이미지': '', '해설': ''}],\n",
       "  '붉은귀거북': [{'답': True,\n",
       "    '문제': '이 동물의 이름은 붉은귀거북(이)가 맞는가?',\n",
       "    '이미지': '',\n",
       "    '해설': ''}],\n",
       "  '붉은불개미': [{'답': True,\n",
       "    '문제': '이 동물의 이름은 붉은불개미(이)가 맞는가?',\n",
       "    '이미지': '',\n",
       "    '해설': ''}],\n",
       "  '브라운송어': [{'답': True,\n",
       "    '문제': '이 동물의 이름은 브라운송어(이)가 맞는가?',\n",
       "    '이미지': '',\n",
       "    '해설': ''}],\n",
       "  '블루길': [{'답': True, '문제': '이 동물의 이름은 블루길(이)가 맞는가?', '이미지': '', '해설': ''}],\n",
       "  '빗살무늬미주메뚜기': [{'답': True,\n",
       "    '문제': '이 동물의 이름은 빗살무늬미주메뚜기(이)가 맞는가?',\n",
       "    '이미지': '',\n",
       "    '해설': ''}],\n",
       "  '아르헨티나개미': [{'답': True,\n",
       "    '문제': '이 동물의 이름은 아르헨티나개미(이)가 맞는가?',\n",
       "    '이미지': '',\n",
       "    '해설': ''}],\n",
       "  '악어거북': [{'답': True, '문제': '이 동물의 이름은 악어거북(이)가 맞는가?', '이미지': '', '해설': ''}],\n",
       "  '열대불개미': [{'답': True,\n",
       "    '문제': '이 동물의 이름은 열대불개미(이)가 맞는가?',\n",
       "    '이미지': '',\n",
       "    '해설': ''}],\n",
       "  '중국줄무늬목거북': [{'답': True,\n",
       "    '문제': '이 동물의 이름은 중국줄무늬목거북(이)가 맞는가?',\n",
       "    '이미지': '',\n",
       "    '해설': ''}],\n",
       "  '플로리다붉은배거북': [{'답': True,\n",
       "    '문제': '이 동물의 이름은 플로리다붉은배거북(이)가 맞는가?',\n",
       "    '이미지': '',\n",
       "    '해설': ''}],\n",
       "  '황소개구리': [{'답': True,\n",
       "    '문제': '이 동물의 이름은 황소개구리(이)가 맞는가?',\n",
       "    '이미지': '',\n",
       "    '해설': ''}]}}"
      ]
     },
     "execution_count": 6,
     "metadata": {},
     "output_type": "execute_result"
    }
   ],
   "source": [
    "tmp"
   ]
  },
  {
   "cell_type": "code",
   "execution_count": 13,
   "metadata": {},
   "outputs": [],
   "source": [
    "keyList = list(tmp['quiz'].keys())"
   ]
  },
  {
   "cell_type": "code",
   "execution_count": 18,
   "metadata": {},
   "outputs": [],
   "source": [
    "quizList=[]\n",
    "\n",
    "while len(quizList)!=20:\n",
    "    randomKey = random.choice(keyList)\n",
    "    randomQuiz = random.choice(tmp['quiz'][randomKey])\n",
    "    if randomQuiz not in quizList: quizList.append(randomQuiz)"
   ]
  },
  {
   "cell_type": "code",
   "execution_count": 20,
   "metadata": {},
   "outputs": [
    {
     "data": {
      "text/plain": [
       "[{'답': True, '문제': '이 동물의 이름은 빗살무늬미주메뚜기(이)가 맞는가?', '이미지': '', '해설': ''},\n",
       " {'답': True, '문제': '이 동물의 이름은 블루길(이)가 맞는가?', '이미지': '', '해설': ''},\n",
       " {'답': True, '문제': '이 동물의 이름은 긴다리비틀개미(이)가 맞는가?', '이미지': '', '해설': ''},\n",
       " {'답': True, '문제': '이 동물의 이름은 플로리다붉은배거북(이)가 맞는가?', '이미지': '', '해설': ''},\n",
       " {'답': True, '문제': '이 동물의 이름은 늑대거북(이)가 맞는가?', '이미지': '', '해설': ''},\n",
       " {'답': True, '문제': '이 동물의 이름은 붉은귀거북(이)가 맞는가?', '이미지': '', '해설': ''},\n",
       " {'답': True, '문제': '이 동물의 이름은 뉴트리아(이)가 맞는가?', '이미지': '', '해설': ''},\n",
       " {'답': True, '문제': '이 동물의 이름은 황소개구리(이)가 맞는가?', '이미지': '', '해설': ''},\n",
       " {'답': True, '문제': '이 동물의 이름은 중국줄무늬목거북(이)가 맞는가?', '이미지': '', '해설': ''},\n",
       " {'답': True, '문제': '이 동물의 이름은 미국가재(이)가 맞는가?', '이미지': '', '해설': ''},\n",
       " {'답': True, '문제': '이 동물의 이름은 브라운송어(이)가 맞는가?', '이미지': '', '해설': ''},\n",
       " {'답': True, '문제': '이 동물의 이름은 갈색날개매미충(이)가 맞는가?', '이미지': '', '해설': ''},\n",
       " {'답': True, '문제': '이 동물의 이름은 미국선녀벌레(이)가 맞는가?', '이미지': '', '해설': ''},\n",
       " {'답': True, '문제': '이 동물의 이름은 리버쿠터(이)가 맞는가?', '이미지': '', '해설': ''},\n",
       " {'답': True, '문제': '이 동물의 이름은 등검은말벌(이)가 맞는가?', '이미지': '', '해설': ''},\n",
       " {'답': True, '문제': '이 동물의 이름은 아르헨티나개미(이)가 맞는가?', '이미지': '', '해설': ''},\n",
       " {'답': True, '문제': '이 동물의 이름은 열대불개미(이)가 맞는가?', '이미지': '', '해설': ''},\n",
       " {'답': True, '문제': '이 동물의 이름은 악어거북(이)가 맞는가?', '이미지': '', '해설': ''},\n",
       " {'답': True, '문제': '이 동물의 이름은 배스(이)가 맞는가?', '이미지': '', '해설': ''},\n",
       " {'답': True, '문제': '이 동물의 이름은 꽃매미(이)가 맞는가?', '이미지': '', '해설': ''}]"
      ]
     },
     "execution_count": 20,
     "metadata": {},
     "output_type": "execute_result"
    }
   ],
   "source": [
    "quizList"
   ]
  },
  {
   "cell_type": "code",
   "execution_count": 1,
   "metadata": {},
   "outputs": [],
   "source": [
    "d={\n",
    "\n",
    "    \"1\": \"ㅇ\",\n",
    "    \"2\":\"ㅇㅇ\"\n",
    "}"
   ]
  },
  {
   "cell_type": "code",
   "execution_count": 2,
   "metadata": {},
   "outputs": [
    {
     "data": {
      "text/plain": [
       "2"
      ]
     },
     "execution_count": 2,
     "metadata": {},
     "output_type": "execute_result"
    }
   ],
   "source": [
    "len(d)"
   ]
  },
  {
   "cell_type": "code",
   "execution_count": null,
   "metadata": {},
   "outputs": [],
   "source": []
  }
 ],
 "metadata": {
  "kernelspec": {
   "display_name": "Python 3",
   "language": "python",
   "name": "python3"
  },
  "language_info": {
   "codemirror_mode": {
    "name": "ipython",
    "version": 3
   },
   "file_extension": ".py",
   "mimetype": "text/x-python",
   "name": "python",
   "nbconvert_exporter": "python",
   "pygments_lexer": "ipython3",
   "version": "3.10.11"
  }
 },
 "nbformat": 4,
 "nbformat_minor": 2
}
